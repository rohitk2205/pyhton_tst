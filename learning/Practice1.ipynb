{
 "cells": [
  {
   "cell_type": "code",
   "execution_count": 1,
   "id": "2db86d80-3113-44e2-8c88-4e5800afd448",
   "metadata": {},
   "outputs": [
    {
     "name": "stdout",
     "output_type": "stream",
     "text": [
      "My exam cloudMy exam cloud"
     ]
    }
   ],
   "source": [
    "for i in range(-1,1):\n",
    "    print('My exam cloud', end='')"
   ]
  },
  {
   "cell_type": "code",
   "execution_count": 3,
   "id": "9a4262ab-4c74-4cd7-baea-eed88c29c0fb",
   "metadata": {},
   "outputs": [
    {
     "name": "stdout",
     "output_type": "stream",
     "text": [
      "0.6\n"
     ]
    }
   ],
   "source": [
    "print(3/5)"
   ]
  },
  {
   "cell_type": "code",
   "execution_count": 41,
   "id": "be32d2ee-f962-4faf-8f88-3b8a51c37cf2",
   "metadata": {},
   "outputs": [
    {
     "name": "stdout",
     "output_type": "stream",
     "text": [
      "list1: [4, 2, 3]\n",
      "list2: [4, 2, 3]\n",
      "list4: [1, 2, 3]\n"
     ]
    }
   ],
   "source": [
    "list1 = [1,2,3]\n",
    "list2=list1\n",
    "list4=list1[:]\n",
    "list1[0]=4\n",
    "print('list1:' ,list1)\n",
    "print(\"list2:\" ,list2)\n",
    "print(\"list4:\" ,list4)"
   ]
  },
  {
   "cell_type": "code",
   "execution_count": 11,
   "id": "9ca872b2-7622-4427-a247-fcd91f4a3121",
   "metadata": {},
   "outputs": [],
   "source": [
    "list1.append(5)"
   ]
  },
  {
   "cell_type": "code",
   "execution_count": 25,
   "id": "807ece58-1a90-4324-b5de-ae16126bba84",
   "metadata": {},
   "outputs": [
    {
     "data": {
      "text/plain": [
       "[4, 2, 3]"
      ]
     },
     "execution_count": 25,
     "metadata": {},
     "output_type": "execute_result"
    }
   ],
   "source": [
    "list1"
   ]
  },
  {
   "cell_type": "code",
   "execution_count": 27,
   "id": "cdd81d9e-57d3-4370-999c-1874c8c8f08a",
   "metadata": {},
   "outputs": [
    {
     "data": {
      "text/plain": [
       "[1, 2, 3]"
      ]
     },
     "execution_count": 27,
     "metadata": {},
     "output_type": "execute_result"
    }
   ],
   "source": [
    "list4"
   ]
  },
  {
   "cell_type": "code",
   "execution_count": 17,
   "id": "7eb14054-8845-4a6a-8671-b2ee733aac88",
   "metadata": {},
   "outputs": [],
   "source": [
    "list3 = list1[:]"
   ]
  },
  {
   "cell_type": "code",
   "execution_count": 19,
   "id": "37bb373c-6af8-4c87-923e-5c348d0fae7d",
   "metadata": {},
   "outputs": [
    {
     "data": {
      "text/plain": [
       "[4, 2, 3, 5]"
      ]
     },
     "execution_count": 19,
     "metadata": {},
     "output_type": "execute_result"
    }
   ],
   "source": [
    "list3"
   ]
  },
  {
   "cell_type": "code",
   "execution_count": 44,
   "id": "91ef53e5-447e-46cd-b2e7-fb4a84493a43",
   "metadata": {},
   "outputs": [
    {
     "ename": "NameError",
     "evalue": "name 'box' is not defined",
     "output_type": "error",
     "traceback": [
      "\u001b[0;31m---------------------------------------------------------------------------\u001b[0m",
      "\u001b[0;31mNameError\u001b[0m                                 Traceback (most recent call last)",
      "Cell \u001b[0;32mIn[44], line 2\u001b[0m\n\u001b[1;32m      1\u001b[0m crate \u001b[38;5;241m=\u001b[39m {}\n\u001b[0;32m----> 2\u001b[0m carte[\u001b[38;5;124m'\u001b[39m\u001b[38;5;124mbox\u001b[39m\u001b[38;5;124m'\u001b[39m] \u001b[38;5;241m=\u001b[39m box\n",
      "\u001b[0;31mNameError\u001b[0m: name 'box' is not defined"
     ]
    }
   ],
   "source": [
    "crate = {}\n",
    "carte['box'] = box"
   ]
  },
  {
   "cell_type": "code",
   "execution_count": 36,
   "id": "ac24384b-9212-4f33-b92a-ebd0545ab70c",
   "metadata": {},
   "outputs": [
    {
     "name": "stdin",
     "output_type": "stream",
     "text": [
      "enter the age 29\n"
     ]
    },
    {
     "name": "stdout",
     "output_type": "stream",
     "text": [
      "you are 2 decades and 9 years old\n"
     ]
    }
   ],
   "source": [
    "age_str = input(\"enter the age\")\n",
    "age_int = int(age_str)\n",
    "decades= age_int//10\n",
    "year = age_int%10\n",
    "print(f\"you are {decades} decades and {year} years old\")"
   ]
  },
  {
   "cell_type": "code",
   "execution_count": 30,
   "id": "b7ee4d51-feac-40ff-9041-62859564bfb1",
   "metadata": {},
   "outputs": [
    {
     "name": "stdin",
     "output_type": "stream",
     "text": [
      "Enter the age:  123\n"
     ]
    },
    {
     "name": "stdout",
     "output_type": "stream",
     "text": [
      "You are 12 decades and 3 years old.\n"
     ]
    }
   ],
   "source": [
    "age_str = input(\"Enter the age: \")\n",
    "age_int = int(age_str)\n",
    "decades = age_int // 10\n",
    "year = age_int % 10\n",
    "print(f\"You are {decades} decades and {year} years old.\")"
   ]
  },
  {
   "cell_type": "code",
   "execution_count": 39,
   "id": "d9923550-26fd-410f-b223-189adec5909c",
   "metadata": {},
   "outputs": [
    {
     "name": "stdout",
     "output_type": "stream",
     "text": [
      "string3 # second comment\n"
     ]
    }
   ],
   "source": [
    "print(\"string3 # second comment\")"
   ]
  },
  {
   "cell_type": "code",
   "execution_count": 41,
   "id": "7c6c489b-e08b-45ad-b364-651b36530222",
   "metadata": {},
   "outputs": [
    {
     "name": "stdout",
     "output_type": "stream",
     "text": [
      "2000.0\n"
     ]
    }
   ],
   "source": [
    "print(2E3)"
   ]
  },
  {
   "cell_type": "code",
   "execution_count": null,
   "id": "c33095da-0b39-488e-9c32-6bcf805a2feb",
   "metadata": {},
   "outputs": [],
   "source": []
  }
 ],
 "metadata": {
  "kernelspec": {
   "display_name": "Python [conda env:base] *",
   "language": "python",
   "name": "conda-base-py"
  },
  "language_info": {
   "codemirror_mode": {
    "name": "ipython",
    "version": 3
   },
   "file_extension": ".py",
   "mimetype": "text/x-python",
   "name": "python",
   "nbconvert_exporter": "python",
   "pygments_lexer": "ipython3",
   "version": "3.12.4"
  }
 },
 "nbformat": 4,
 "nbformat_minor": 5
}
