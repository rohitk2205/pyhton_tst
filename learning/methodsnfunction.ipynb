{
 "cells": [
  {
   "cell_type": "code",
   "execution_count": 1,
   "id": "fa15fd89-8394-4a24-95d9-0bc6dc89cc68",
   "metadata": {},
   "outputs": [],
   "source": [
    " mylist = [1,2,3]"
   ]
  },
  {
   "cell_type": "code",
   "execution_count": 3,
   "id": "f9f6aae4-824f-45ba-8602-cf87c3fe2c64",
   "metadata": {},
   "outputs": [],
   "source": [
    "mylist.append(4)"
   ]
  },
  {
   "cell_type": "code",
   "execution_count": 5,
   "id": "40058a73-9948-4cfd-9767-14dab1b870be",
   "metadata": {},
   "outputs": [
    {
     "data": {
      "text/plain": [
       "[1, 2, 3, 4]"
      ]
     },
     "execution_count": 5,
     "metadata": {},
     "output_type": "execute_result"
    }
   ],
   "source": [
    "mylist"
   ]
  },
  {
   "cell_type": "code",
   "execution_count": 7,
   "id": "22b17719-ef94-4fa3-87cd-ee399cdd7f77",
   "metadata": {},
   "outputs": [
    {
     "data": {
      "text/plain": [
       "4"
      ]
     },
     "execution_count": 7,
     "metadata": {},
     "output_type": "execute_result"
    }
   ],
   "source": [
    "mylist.pop()"
   ]
  },
  {
   "cell_type": "code",
   "execution_count": 9,
   "id": "b8b82d8e-6294-48a0-84fb-4632b6ded310",
   "metadata": {},
   "outputs": [
    {
     "name": "stdout",
     "output_type": "stream",
     "text": [
      "Help on built-in function insert:\n",
      "\n",
      "insert(index, object, /) method of builtins.list instance\n",
      "    Insert object before index.\n",
      "\n"
     ]
    }
   ],
   "source": [
    "help(mylist.insert)"
   ]
  },
  {
   "cell_type": "code",
   "execution_count": 11,
   "id": "e53b6f7b-42e8-4ab2-aaaa-6779a140d487",
   "metadata": {},
   "outputs": [],
   "source": [
    "def say_hello():\n",
    "    print('hello')"
   ]
  },
  {
   "cell_type": "code",
   "execution_count": 13,
   "id": "299aed74-e704-4d22-847a-72ee04a7b498",
   "metadata": {},
   "outputs": [
    {
     "name": "stdout",
     "output_type": "stream",
     "text": [
      "hello\n"
     ]
    }
   ],
   "source": [
    "say_hello()"
   ]
  },
  {
   "cell_type": "code",
   "execution_count": 15,
   "id": "f3fd3ddf-c0f7-4bd7-b945-4351d5ecfaaa",
   "metadata": {},
   "outputs": [
    {
     "data": {
      "text/plain": [
       "<function __main__.say_hello()>"
      ]
     },
     "execution_count": 15,
     "metadata": {},
     "output_type": "execute_result"
    }
   ],
   "source": [
    "say_hello"
   ]
  },
  {
   "cell_type": "code",
   "execution_count": 17,
   "id": "7dc6777f-b065-4900-ae98-1c97eeedc316",
   "metadata": {},
   "outputs": [],
   "source": [
    "def say_hello(name= 'Default'):\n",
    "    print(f'hello {name}')"
   ]
  },
  {
   "cell_type": "code",
   "execution_count": 19,
   "id": "322d2d91-1c13-4001-9658-7e5664cc07a0",
   "metadata": {},
   "outputs": [
    {
     "name": "stdout",
     "output_type": "stream",
     "text": [
      "hello Default\n"
     ]
    }
   ],
   "source": [
    "say_hello()"
   ]
  },
  {
   "cell_type": "code",
   "execution_count": 21,
   "id": "b8b56446-00bb-45ec-8e90-d39a83c21426",
   "metadata": {},
   "outputs": [],
   "source": [
    "def print_result(a,b):\n",
    "    print(a+b)"
   ]
  },
  {
   "cell_type": "code",
   "execution_count": 23,
   "id": "c5588385-a550-490c-b0e5-6d192501ed52",
   "metadata": {},
   "outputs": [],
   "source": [
    "def return_result(a,b):\n",
    "    return a+b"
   ]
  },
  {
   "cell_type": "code",
   "execution_count": 25,
   "id": "9741fdb7-fe0c-41be-a6ea-40afa100b343",
   "metadata": {},
   "outputs": [],
   "source": [
    "stock_prices = [('AAPLE',100),('banana',200)]\n"
   ]
  },
  {
   "cell_type": "code",
   "execution_count": 27,
   "id": "a0d61cdc-ef6a-4c90-b646-0b9b34636eea",
   "metadata": {},
   "outputs": [
    {
     "name": "stdout",
     "output_type": "stream",
     "text": [
      "('AAPLE', 100)\n",
      "('banana', 200)\n"
     ]
    }
   ],
   "source": [
    "for x in stock_prices:\n",
    "    print(x)"
   ]
  },
  {
   "cell_type": "code",
   "execution_count": 29,
   "id": "815feaf0-d92e-488d-adf8-1b1650a4b75c",
   "metadata": {},
   "outputs": [
    {
     "name": "stdout",
     "output_type": "stream",
     "text": [
      "AAPLE\n",
      "banana\n"
     ]
    }
   ],
   "source": [
    "for name,price in stock_prices:\n",
    "    print(name)"
   ]
  },
  {
   "cell_type": "code",
   "execution_count": 31,
   "id": "02604752-8bae-4e4c-a560-de6e589912d0",
   "metadata": {},
   "outputs": [],
   "source": [
    "example = [1,2,3,4,5,6,7,8]\n"
   ]
  },
  {
   "cell_type": "code",
   "execution_count": 33,
   "id": "ee36a452-247d-49d2-85f8-e047dccf4ee2",
   "metadata": {},
   "outputs": [],
   "source": [
    "from random import shuffle\n"
   ]
  },
  {
   "cell_type": "code",
   "execution_count": 35,
   "id": "2916891d-f0c8-49b7-a957-ec0871a59612",
   "metadata": {},
   "outputs": [],
   "source": [
    "shuffle(example)"
   ]
  },
  {
   "cell_type": "code",
   "execution_count": 37,
   "id": "d9d43105-9214-4f6e-8e5f-8252b65c0854",
   "metadata": {},
   "outputs": [
    {
     "data": {
      "text/plain": [
       "[5, 2, 4, 3, 7, 8, 1, 6]"
      ]
     },
     "execution_count": 37,
     "metadata": {},
     "output_type": "execute_result"
    }
   ],
   "source": [
    "example"
   ]
  },
  {
   "cell_type": "code",
   "execution_count": 39,
   "id": "73185bc6-313b-4e01-89ec-311854d5c3ce",
   "metadata": {},
   "outputs": [],
   "source": [
    "def shuffle_list(mylist):\n",
    "    shuffle(mylist)\n",
    "    return mylist"
   ]
  },
  {
   "cell_type": "code",
   "execution_count": 41,
   "id": "fbeedfac-3180-48ac-a052-1fde4db99d8d",
   "metadata": {},
   "outputs": [],
   "source": [
    "result = shuffle_list(example)"
   ]
  },
  {
   "cell_type": "code",
   "execution_count": 43,
   "id": "8d7c9677-5aa2-44fa-a78c-80f858b00e5d",
   "metadata": {},
   "outputs": [
    {
     "data": {
      "text/plain": [
       "[4, 3, 1, 8, 6, 5, 2, 7]"
      ]
     },
     "execution_count": 43,
     "metadata": {},
     "output_type": "execute_result"
    }
   ],
   "source": [
    "result"
   ]
  },
  {
   "cell_type": "code",
   "execution_count": 45,
   "id": "333507f1-d5ed-46b4-b829-5a436dbefa94",
   "metadata": {},
   "outputs": [],
   "source": [
    "def myfunc(*args):\n",
    "    return sum(args)"
   ]
  },
  {
   "cell_type": "code",
   "execution_count": 47,
   "id": "37742a04-4675-4b39-828d-5ce2a5bc595c",
   "metadata": {},
   "outputs": [
    {
     "data": {
      "text/plain": [
       "25"
      ]
     },
     "execution_count": 47,
     "metadata": {},
     "output_type": "execute_result"
    }
   ],
   "source": [
    "myfunc(7,5,6,7)"
   ]
  },
  {
   "cell_type": "code",
   "execution_count": 58,
   "id": "21e73dfd-1938-4203-bf50-eca9c4888d03",
   "metadata": {},
   "outputs": [],
   "source": [
    "def myfunc(word):\n",
    "    for x in len(word):\n",
    "        print(word[x])"
   ]
  },
  {
   "cell_type": "code",
   "execution_count": 60,
   "id": "7fd8cbe9-2d7a-4018-b85f-fa746a3e67fa",
   "metadata": {},
   "outputs": [
    {
     "ename": "TypeError",
     "evalue": "'int' object is not iterable",
     "output_type": "error",
     "traceback": [
      "\u001b[0;31m---------------------------------------------------------------------------\u001b[0m",
      "\u001b[0;31mTypeError\u001b[0m                                 Traceback (most recent call last)",
      "Cell \u001b[0;32mIn[60], line 1\u001b[0m\n\u001b[0;32m----> 1\u001b[0m myfunc(\u001b[38;5;124m\"\u001b[39m\u001b[38;5;124mhello\u001b[39m\u001b[38;5;124m\"\u001b[39m)\n",
      "Cell \u001b[0;32mIn[58], line 2\u001b[0m, in \u001b[0;36mmyfunc\u001b[0;34m(word)\u001b[0m\n\u001b[1;32m      1\u001b[0m \u001b[38;5;28;01mdef\u001b[39;00m \u001b[38;5;21mmyfunc\u001b[39m(word):\n\u001b[0;32m----> 2\u001b[0m     \u001b[38;5;28;01mfor\u001b[39;00m x \u001b[38;5;129;01min\u001b[39;00m \u001b[38;5;28mlen\u001b[39m(word):\n\u001b[1;32m      3\u001b[0m         \u001b[38;5;28mprint\u001b[39m(word[x])\n",
      "\u001b[0;31mTypeError\u001b[0m: 'int' object is not iterable"
     ]
    }
   ],
   "source": [
    "myfunc(\"hello\")\n"
   ]
  },
  {
   "cell_type": "code",
   "execution_count": 62,
   "id": "386c4f6b-0ca2-4c87-b680-419b22bc6f92",
   "metadata": {},
   "outputs": [],
   "source": [
    "def myfunc(word):\n",
    "    new_word= ''\n",
    "    for x in range(len(word)):\n",
    "        if x%2==0:\n",
    "            new_word+= word[x].upper()\n",
    "        else:\n",
    "            new_word+= word[x].lower()\n",
    "    return new_word"
   ]
  },
  {
   "cell_type": "code",
   "execution_count": 64,
   "id": "422f91b5-2516-4a8f-966f-a37dea1f1c9b",
   "metadata": {},
   "outputs": [
    {
     "data": {
      "text/plain": [
       "'FdSfSdFd'"
      ]
     },
     "execution_count": 64,
     "metadata": {},
     "output_type": "execute_result"
    }
   ],
   "source": [
    "myfunc('fdsfsdfd')"
   ]
  },
  {
   "cell_type": "code",
   "execution_count": 96,
   "id": "84222d85-5fe7-4bdd-a7d7-b3c4514c60eb",
   "metadata": {},
   "outputs": [
    {
     "ename": "IndentationError",
     "evalue": "unindent does not match any outer indentation level (<string>, line 6)",
     "output_type": "error",
     "traceback": [
      "\u001b[0;36m  File \u001b[0;32m<string>:6\u001b[0;36m\u001b[0m\n\u001b[0;31m    return  None\u001b[0m\n\u001b[0m                     ^\u001b[0m\n\u001b[0;31mIndentationError\u001b[0m\u001b[0;31m:\u001b[0m unindent does not match any outer indentation level\n"
     ]
    }
   ],
   "source": [
    "def myfunc(a,b):\n",
    "    if a % 2==0 and b%2==0:\n",
    "        return min(a,b)\n",
    "    elif a%3==1 or b%3==1:\n",
    "        return max(a,b)\n",
    "     return  None     "
   ]
  },
  {
   "cell_type": "code",
   "execution_count": 98,
   "id": "f31ca58f-adfa-41cf-bae7-63aab144641e",
   "metadata": {},
   "outputs": [
    {
     "name": "stdout",
     "output_type": "stream",
     "text": [
      "None\n"
     ]
    }
   ],
   "source": [
    "print(myfunc(5,3))\n"
   ]
  },
  {
   "cell_type": "code",
   "execution_count": null,
   "id": "5d1fd581-056e-40d9-9117-a216f37c3978",
   "metadata": {},
   "outputs": [],
   "source": []
  },
  {
   "cell_type": "code",
   "execution_count": 109,
   "id": "20174bed-75a3-4da3-af43-0afdda51fd5b",
   "metadata": {},
   "outputs": [],
   "source": [
    "def myfunc(a, b):\n",
    "    if a % 2 == 0 and b % 2 == 0:  # Both numbers are even\n",
    "        return min(a,b)\n",
    "    elif a % 3 == 1 or b % 3 == 1:  # Either number leaves a remainder of 1 when divided by 3\n",
    "        return max(a,b)"
   ]
  },
  {
   "cell_type": "code",
   "execution_count": 113,
   "id": "9d50a51a-e29f-46a9-be0c-cab30242a5c4",
   "metadata": {},
   "outputs": [
    {
     "data": {
      "text/plain": [
       "9"
      ]
     },
     "execution_count": 113,
     "metadata": {},
     "output_type": "execute_result"
    }
   ],
   "source": [
    "myfunc(7,9)"
   ]
  },
  {
   "cell_type": "code",
   "execution_count": 115,
   "id": "f0f226fd-76ee-447a-910a-d74987b179d1",
   "metadata": {},
   "outputs": [],
   "source": [
    "def myfunc(word1,word2):\n",
    "    if word1[0]==word2[0]:\n",
    "        return True\n",
    "    else:\n",
    "        return False\n",
    "    "
   ]
  },
  {
   "cell_type": "code",
   "execution_count": 117,
   "id": "6c37bff1-cf1a-4aca-8261-2d0df4790993",
   "metadata": {},
   "outputs": [
    {
     "data": {
      "text/plain": [
       "True"
      ]
     },
     "execution_count": 117,
     "metadata": {},
     "output_type": "execute_result"
    }
   ],
   "source": [
    "myfunc('rohit','roo')"
   ]
  },
  {
   "cell_type": "code",
   "execution_count": 119,
   "id": "d28c6924-fe54-4bbf-a6db-1275b92e6d37",
   "metadata": {},
   "outputs": [
    {
     "data": {
      "text/plain": [
       "False"
      ]
     },
     "execution_count": 119,
     "metadata": {},
     "output_type": "execute_result"
    }
   ],
   "source": [
    "myfunc('rohit','xcxc')"
   ]
  },
  {
   "cell_type": "code",
   "execution_count": 121,
   "id": "d6bfa842-eaf3-4465-bae7-8bb8f07f9b73",
   "metadata": {},
   "outputs": [],
   "source": [
    "def myfunc(a,b):\n",
    "    if a==20 or b==20 or a+b==20:\n",
    "        return True\n",
    "    else:\n",
    "        return False"
   ]
  },
  {
   "cell_type": "code",
   "execution_count": 123,
   "id": "0985225d-8321-479c-be22-4e395ca5aada",
   "metadata": {},
   "outputs": [
    {
     "data": {
      "text/plain": [
       "True"
      ]
     },
     "execution_count": 123,
     "metadata": {},
     "output_type": "execute_result"
    }
   ],
   "source": [
    "myfunc(3,17)\n"
   ]
  },
  {
   "cell_type": "code",
   "execution_count": 125,
   "id": "eea2d40a-f28b-4bf5-b536-1b1ee7f53fb1",
   "metadata": {},
   "outputs": [
    {
     "data": {
      "text/plain": [
       "True"
      ]
     },
     "execution_count": 125,
     "metadata": {},
     "output_type": "execute_result"
    }
   ],
   "source": [
    "myfunc(20,1)"
   ]
  },
  {
   "cell_type": "code",
   "execution_count": 127,
   "id": "0904aacc-00cc-4751-9445-f14a05d03707",
   "metadata": {},
   "outputs": [
    {
     "data": {
      "text/plain": [
       "False"
      ]
     },
     "execution_count": 127,
     "metadata": {},
     "output_type": "execute_result"
    }
   ],
   "source": [
    "myfunc(2,3)"
   ]
  },
  {
   "cell_type": "code",
   "execution_count": 140,
   "id": "9831cb45-f65e-4dd0-96d7-d89d639f9f9c",
   "metadata": {},
   "outputs": [],
   "source": [
    "def myfunc(word):\n",
    "    new_str = ''\n",
    "    for x in range(len(word)):\n",
    "        if x==0 or x==3:\n",
    "            new_str += word[x].upper()\n",
    "        else:\n",
    "            new_str+=word[x]\n",
    "    return new_str           "
   ]
  },
  {
   "cell_type": "code",
   "execution_count": 142,
   "id": "8a788dd5-1cb3-4a3f-abe6-86410d72c213",
   "metadata": {},
   "outputs": [
    {
     "data": {
      "text/plain": [
       "'RohIt'"
      ]
     },
     "execution_count": 142,
     "metadata": {},
     "output_type": "execute_result"
    }
   ],
   "source": [
    "myfunc('rohit')"
   ]
  },
  {
   "cell_type": "code",
   "execution_count": 144,
   "id": "f5cb358e-0706-4c47-bf79-f9dc9a623b30",
   "metadata": {},
   "outputs": [],
   "source": [
    "def myfunc(word):\n",
    "    return word.split()"
   ]
  },
  {
   "cell_type": "code",
   "execution_count": 146,
   "id": "14065e48-dacf-447b-b99e-dba6c6516ebd",
   "metadata": {},
   "outputs": [
    {
     "data": {
      "text/plain": [
       "['we', 'are', 'here']"
      ]
     },
     "execution_count": 146,
     "metadata": {},
     "output_type": "execute_result"
    }
   ],
   "source": [
    "myfunc('we are here')"
   ]
  },
  {
   "cell_type": "code",
   "execution_count": 166,
   "id": "a4b0699a-ac20-480c-b394-612696e99281",
   "metadata": {},
   "outputs": [],
   "source": [
    "def myfunc(word):\n",
    "    return word.split()[::-1]\n",
    "    "
   ]
  },
  {
   "cell_type": "code",
   "execution_count": 168,
   "id": "ad9c36f4-d897-42d7-a46b-c171ea9a38c8",
   "metadata": {},
   "outputs": [
    {
     "data": {
      "text/plain": [
       "['here', 'are', 'we']"
      ]
     },
     "execution_count": 168,
     "metadata": {},
     "output_type": "execute_result"
    }
   ],
   "source": [
    "myfunc('we are here')"
   ]
  },
  {
   "cell_type": "code",
   "execution_count": 158,
   "id": "61fce9a0-db7c-433b-82e3-8e4d8de04cbf",
   "metadata": {},
   "outputs": [
    {
     "ename": "NameError",
     "evalue": "name 'list1' is not defined",
     "output_type": "error",
     "traceback": [
      "\u001b[0;31m---------------------------------------------------------------------------\u001b[0m",
      "\u001b[0;31mNameError\u001b[0m                                 Traceback (most recent call last)",
      "Cell \u001b[0;32mIn[158], line 1\u001b[0m\n\u001b[0;32m----> 1\u001b[0m list1\n",
      "\u001b[0;31mNameError\u001b[0m: name 'list1' is not defined"
     ]
    }
   ],
   "source": [
    "list1"
   ]
  },
  {
   "cell_type": "code",
   "execution_count": 181,
   "id": "10bd50c9-ead6-4841-84e2-de1450d78a20",
   "metadata": {},
   "outputs": [],
   "source": [
    "def myfunc(word):\n",
    "    new_str = ''\n",
    "    \n",
    "    for x in range(len(word)):\n",
    "        y=0\n",
    "        while (y<3):\n",
    "            new_str += word[x]\n",
    "            y+=1\n",
    "    return  new_str      "
   ]
  },
  {
   "cell_type": "code",
   "execution_count": 185,
   "id": "feb0b20f-39ab-4535-bf03-d09638bb5387",
   "metadata": {},
   "outputs": [
    {
     "data": {
      "text/plain": [
       "'hhheeellllllooo'"
      ]
     },
     "execution_count": 185,
     "metadata": {},
     "output_type": "execute_result"
    }
   ],
   "source": [
    "myfunc('hello')"
   ]
  },
  {
   "cell_type": "code",
   "execution_count": 251,
   "id": "81cbaf80-5373-4374-97d3-f31926248bdc",
   "metadata": {},
   "outputs": [],
   "source": [
    "def spy_game(*args):\n",
    "    count = 0\n",
    "    list1 = []  # Initialize list1 here\n",
    "    list2 = [0, 0, 7]  # Target sequence\n",
    "\n",
    "    for i in args:\n",
    "        if i == 0:\n",
    "            count += 1  # Increment count for every 0\n",
    "\n",
    "    if count >= 2:  # Proceed only if there are at least two 0s\n",
    "        for j in args:\n",
    "            if j == 0 or j == 7:\n",
    "                list1.append(j)  # Add 0s and 7s to list1\n",
    "        if list1 == list2:  # Compare list1 with the target sequence\n",
    "            return True\n",
    "        else:\n",
    "            return False\n",
    "    return False       "
   ]
  },
  {
   "cell_type": "code",
   "execution_count": 255,
   "id": "ea442883-fdea-43e7-8455-8f31125317dc",
   "metadata": {},
   "outputs": [
    {
     "data": {
      "text/plain": [
       "True"
      ]
     },
     "execution_count": 255,
     "metadata": {},
     "output_type": "execute_result"
    }
   ],
   "source": [
    "spy_game(1,0,3,5,0,7)"
   ]
  },
  {
   "cell_type": "code",
   "execution_count": 257,
   "id": "a935ca77-e140-437c-b1f7-80f99a781619",
   "metadata": {},
   "outputs": [],
   "source": [
    "lis1  = [1,2,3,4]"
   ]
  },
  {
   "cell_type": "code",
   "execution_count": 267,
   "id": "0ab6bab2-c06c-4c4a-82a7-a31191b32f75",
   "metadata": {},
   "outputs": [],
   "source": [
    "def square(lis1):\n",
    "    return lis1**2"
   ]
  },
  {
   "cell_type": "code",
   "execution_count": 271,
   "id": "1a36fb14-cc21-4346-ae4d-2ea2ec208bd4",
   "metadata": {},
   "outputs": [
    {
     "name": "stdout",
     "output_type": "stream",
     "text": [
      "1\n",
      "4\n",
      "9\n",
      "16\n"
     ]
    }
   ],
   "source": [
    "for i in map(square,lis1):\n",
    "    print(i)"
   ]
  },
  {
   "cell_type": "code",
   "execution_count": 269,
   "id": "96fb0d56-0dbb-42b1-9515-2e0a47af03b4",
   "metadata": {},
   "outputs": [
    {
     "data": {
      "text/plain": [
       "[1, 2, 3, 4]"
      ]
     },
     "execution_count": 269,
     "metadata": {},
     "output_type": "execute_result"
    }
   ],
   "source": [
    "lis1"
   ]
  },
  {
   "cell_type": "code",
   "execution_count": 273,
   "id": "65736c68-e88e-42ae-959c-0ec667b18bb8",
   "metadata": {},
   "outputs": [
    {
     "name": "stdout",
     "output_type": "stream",
     "text": [
      "[2, 4]\n"
     ]
    }
   ],
   "source": [
    "nums = [1, 2, 3, 4]\n",
    "evens = filter(lambda x: x % 2 == 0, nums)\n",
    "print(list(evens)) "
   ]
  },
  {
   "cell_type": "code",
   "execution_count": 275,
   "id": "f5822da2-6937-4d53-8963-5c73a022afa3",
   "metadata": {},
   "outputs": [
    {
     "name": "stdout",
     "output_type": "stream",
     "text": [
      "[1, 4, 9, 16]\n"
     ]
    }
   ],
   "source": [
    "nums = [1, 2, 3, 4]\n",
    "squared = map(lambda x: x ** 2, nums)\n",
    "print(list(squared))  "
   ]
  },
  {
   "cell_type": "code",
   "execution_count": 293,
   "id": "31830a66-67d8-4441-b278-c3aba8061679",
   "metadata": {},
   "outputs": [
    {
     "name": "stdout",
     "output_type": "stream",
     "text": [
      "Hello IM A LOCAL\n"
     ]
    }
   ],
   "source": [
    "# GLOBAL\n",
    "name = 'THIS IS A GLOBAL STRING'\n",
    "def greet():\n",
    "# ENCLOSING\n",
    "    name = 'Sammy'\n",
    "    def hello():\n",
    "#LOCAL\n",
    "        name = 'IM A LOCAL'\n",
    "        print ( 'Hello '+name)\n",
    "    hello()\n",
    "greet()    "
   ]
  },
  {
   "cell_type": "code",
   "execution_count": 291,
   "id": "b4714d1e-2f46-4eb5-bbc9-3ac6e106cb1d",
   "metadata": {},
   "outputs": [
    {
     "ename": "NameError",
     "evalue": "name 'greet' is not defined",
     "output_type": "error",
     "traceback": [
      "\u001b[0;31m---------------------------------------------------------------------------\u001b[0m",
      "\u001b[0;31mNameError\u001b[0m                                 Traceback (most recent call last)",
      "Cell \u001b[0;32mIn[291], line 1\u001b[0m\n\u001b[0;32m----> 1\u001b[0m greet()\n",
      "\u001b[0;31mNameError\u001b[0m: name 'greet' is not defined"
     ]
    }
   ],
   "source": [
    "greet()"
   ]
  },
  {
   "cell_type": "code",
   "execution_count": 295,
   "id": "d5a10173-cff8-4693-aba4-b291e25352cc",
   "metadata": {},
   "outputs": [],
   "source": [
    "x = 50\n",
    "def func():\n",
    "    global x\n",
    "    print (f'X is {x}')\n",
    "# LOCAL REASSIGNMENT ON A GLOBAL VARIABLE!\n",
    "    x = 'NEW VALUE'\n",
    "    print(f'I JUST LOCALLY CHANGED GLOBAL X TO {x}')"
   ]
  },
  {
   "cell_type": "code",
   "execution_count": 297,
   "id": "237f3c1e-dd87-4c31-99d6-24f140c9420b",
   "metadata": {},
   "outputs": [
    {
     "name": "stdout",
     "output_type": "stream",
     "text": [
      "50\n"
     ]
    }
   ],
   "source": [
    "print(x)"
   ]
  },
  {
   "cell_type": "code",
   "execution_count": 299,
   "id": "2b0945a7-3992-4ba9-96ec-ad6ebf734b0b",
   "metadata": {},
   "outputs": [
    {
     "ename": "TypeError",
     "evalue": "func() takes 0 positional arguments but 1 was given",
     "output_type": "error",
     "traceback": [
      "\u001b[0;31m---------------------------------------------------------------------------\u001b[0m",
      "\u001b[0;31mTypeError\u001b[0m                                 Traceback (most recent call last)",
      "Cell \u001b[0;32mIn[299], line 1\u001b[0m\n\u001b[0;32m----> 1\u001b[0m func(x)\n",
      "\u001b[0;31mTypeError\u001b[0m: func() takes 0 positional arguments but 1 was given"
     ]
    }
   ],
   "source": [
    "func(x)"
   ]
  },
  {
   "cell_type": "code",
   "execution_count": 301,
   "id": "d10203e6-d34a-476a-82f3-4856d48a2b6e",
   "metadata": {},
   "outputs": [
    {
     "name": "stdout",
     "output_type": "stream",
     "text": [
      "X is 50\n",
      "I JUST LOCALLY CHANGED GLOBAL X TO NEW VALUE\n"
     ]
    }
   ],
   "source": [
    "func()"
   ]
  },
  {
   "cell_type": "code",
   "execution_count": 13,
   "id": "01e3506d-d3f4-4424-ace9-b59a54c322ae",
   "metadata": {},
   "outputs": [],
   "source": [
    "def almost_there(n):\n",
    "    if n in range(90,110) or n in range(190,210):\n",
    "        return True\n",
    "    else:\n",
    "        return False"
   ]
  },
  {
   "cell_type": "code",
   "execution_count": 21,
   "id": "eb13c8cf-b354-4114-b88d-792e6dcd9f90",
   "metadata": {},
   "outputs": [
    {
     "data": {
      "text/plain": [
       "True"
      ]
     },
     "execution_count": 21,
     "metadata": {},
     "output_type": "execute_result"
    }
   ],
   "source": [
    "almost_there(209)"
   ]
  },
  {
   "cell_type": "code",
   "execution_count": 31,
   "id": "38f93c34-6223-4b5e-b9e6-37ae78f10efb",
   "metadata": {},
   "outputs": [],
   "source": [
    "def has_33(list1):\n",
    "    for i in range(len(list1)):\n",
    "        if list1[i]==list1[i+1]:\n",
    "            return True\n",
    "        else:\n",
    "            return False\n"
   ]
  },
  {
   "cell_type": "code",
   "execution_count": 33,
   "id": "6a675c87-acfa-4303-bad6-7bb6262767f0",
   "metadata": {},
   "outputs": [
    {
     "data": {
      "text/plain": [
       "False"
      ]
     },
     "execution_count": 33,
     "metadata": {},
     "output_type": "execute_result"
    }
   ],
   "source": [
    "has_33([3,1,3])"
   ]
  },
  {
   "cell_type": "code",
   "execution_count": 53,
   "id": "0db73bfd-a5d9-4eac-a93c-a97fc658b942",
   "metadata": {},
   "outputs": [],
   "source": [
    "def blackjack(a,b,c):\n",
    "    if a+b+c <= 21:\n",
    "        return a+b+c\n",
    "    elif a+b+c > 21 and a==11 or b==11 or c==11:\n",
    "        return (a+b+c)-10\n",
    "    elif a+b+c >21:\n",
    "        return \"BUST\""
   ]
  },
  {
   "cell_type": "code",
   "execution_count": 57,
   "id": "de1be9db-7052-4a0e-87ec-bfe033c6442b",
   "metadata": {},
   "outputs": [
    {
     "data": {
      "text/plain": [
       "19"
      ]
     },
     "execution_count": 57,
     "metadata": {},
     "output_type": "execute_result"
    }
   ],
   "source": [
    "blackjack(9,9,11)"
   ]
  },
  {
   "cell_type": "code",
   "execution_count": 59,
   "id": "c2de7003-ea66-4381-bf2c-c212b820a1a9",
   "metadata": {},
   "outputs": [],
   "source": [
    "def summer_69(list1):\n",
    "    sum = 0\n",
    "    for i in list1:\n",
    "        if i==6\n",
    "        sum+=i\n",
    "    return sum    "
   ]
  },
  {
   "cell_type": "code",
   "execution_count": 61,
   "id": "b1f5e71b-e7fa-4c51-98fa-3813e63aa40a",
   "metadata": {},
   "outputs": [
    {
     "data": {
      "text/plain": [
       "9"
      ]
     },
     "execution_count": 61,
     "metadata": {},
     "output_type": "execute_result"
    }
   ],
   "source": [
    "summer_69([1,3,5])"
   ]
  },
  {
   "cell_type": "code",
   "execution_count": 63,
   "id": "47860c7e-666a-4b09-8f34-f213b01a401e",
   "metadata": {},
   "outputs": [],
   "source": [
    "str = 'Hello Mr. Rogers, how are you this fine Tuesday?'"
   ]
  },
  {
   "cell_type": "code",
   "execution_count": 79,
   "id": "6dcc97b5-8d8e-445b-aac9-d1f0687cbdb0",
   "metadata": {},
   "outputs": [],
   "source": [
    "def up_low(str):\n",
    "    count_up = 0\n",
    "    count_low=0\n",
    "    for i in str:\n",
    "        if i.isupper():\n",
    "            count_up += 1\n",
    "        elif i.islower():\n",
    "            count_low += 1\n",
    "    return count_up,count_low"
   ]
  },
  {
   "cell_type": "code",
   "execution_count": 81,
   "id": "cddcf8aa-34f9-4f09-8731-e063591d8b7f",
   "metadata": {},
   "outputs": [
    {
     "data": {
      "text/plain": [
       "(4, 33)"
      ]
     },
     "execution_count": 81,
     "metadata": {},
     "output_type": "execute_result"
    }
   ],
   "source": [
    "up_low(str)"
   ]
  },
  {
   "cell_type": "code",
   "execution_count": 87,
   "id": "08e345cf-1de1-43b0-ac24-fb82bdad4fc1",
   "metadata": {},
   "outputs": [],
   "source": [
    "def unique_list(list1):\n",
    "    myset = set(list1)\n",
    "    list2 = list(myset)\n",
    "    return list2"
   ]
  },
  {
   "cell_type": "code",
   "execution_count": 89,
   "id": "4797b96b-9e71-48d3-acf7-62c8348b2414",
   "metadata": {},
   "outputs": [
    {
     "data": {
      "text/plain": [
       "[1, 2, 3, 4, 5, 6, 12]"
      ]
     },
     "execution_count": 89,
     "metadata": {},
     "output_type": "execute_result"
    }
   ],
   "source": [
    "unique_list([1,1,1,1,12,2,2,2,3,3,3,4,4,5,6])"
   ]
  },
  {
   "cell_type": "code",
   "execution_count": 95,
   "id": "3e346e69-3ad1-4267-92f0-da76215b233e",
   "metadata": {},
   "outputs": [],
   "source": [
    "def mutilpy(list1):\n",
    "    mul = 1\n",
    "    for i in list1:\n",
    "        mul = mul*i\n",
    "    return mul    "
   ]
  },
  {
   "cell_type": "code",
   "execution_count": 97,
   "id": "4d06e0a2-7b87-489d-8eea-31e4b647aab2",
   "metadata": {},
   "outputs": [
    {
     "data": {
      "text/plain": [
       "-24"
      ]
     },
     "execution_count": 97,
     "metadata": {},
     "output_type": "execute_result"
    }
   ],
   "source": [
    "mutilpy([1,2,3,-4])"
   ]
  },
  {
   "cell_type": "code",
   "execution_count": 124,
   "id": "0c8c5efa-c582-4048-bfe8-e8f80fdff53e",
   "metadata": {},
   "outputs": [],
   "source": [
    "str = 'iiii'"
   ]
  },
  {
   "cell_type": "code",
   "execution_count": 130,
   "id": "12c4dc6f-946a-4b6d-b6ca-79af48a19137",
   "metadata": {},
   "outputs": [],
   "source": [
    "def pal(str):\n",
    "    rev_str = ''\n",
    "    for i in str[::-1]:\n",
    "        rev_str +=i\n",
    "    if str==rev_str:\n",
    "        return True\n",
    "    else:\n",
    "        return False"
   ]
  },
  {
   "cell_type": "code",
   "execution_count": 132,
   "id": "4793963a-e636-4a3b-a4eb-7a7acb464541",
   "metadata": {},
   "outputs": [
    {
     "data": {
      "text/plain": [
       "True"
      ]
     },
     "execution_count": 132,
     "metadata": {},
     "output_type": "execute_result"
    }
   ],
   "source": [
    "pal(str)"
   ]
  },
  {
   "cell_type": "code",
   "execution_count": 109,
   "id": "893e28fb-b2a1-49c7-964b-1b9d85251079",
   "metadata": {},
   "outputs": [],
   "source": [
    "rev_str = str[::-1]"
   ]
  },
  {
   "cell_type": "code",
   "execution_count": 111,
   "id": "745c6e9c-4a9b-452b-bc2e-d10b5d5370de",
   "metadata": {},
   "outputs": [
    {
     "data": {
      "text/plain": [
       "'olleh'"
      ]
     },
     "execution_count": 111,
     "metadata": {},
     "output_type": "execute_result"
    }
   ],
   "source": [
    "rev_str"
   ]
  },
  {
   "cell_type": "code",
   "execution_count": null,
   "id": "e20c4bcb-78a0-4765-96ef-e4e2d5e58e75",
   "metadata": {},
   "outputs": [],
   "source": []
  }
 ],
 "metadata": {
  "kernelspec": {
   "display_name": "Python [conda env:base] *",
   "language": "python",
   "name": "conda-base-py"
  },
  "language_info": {
   "codemirror_mode": {
    "name": "ipython",
    "version": 3
   },
   "file_extension": ".py",
   "mimetype": "text/x-python",
   "name": "python",
   "nbconvert_exporter": "python",
   "pygments_lexer": "ipython3",
   "version": "3.12.4"
  }
 },
 "nbformat": 4,
 "nbformat_minor": 5
}
