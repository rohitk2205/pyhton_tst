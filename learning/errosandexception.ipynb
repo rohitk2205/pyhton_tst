{
 "cells": [
  {
   "cell_type": "code",
   "execution_count": 1,
   "id": "c509afbe-b16b-41d3-877b-9e4cd9c5143c",
   "metadata": {},
   "outputs": [],
   "source": [
    "def add(n1,n2):\n",
    "    print(n1+n2)"
   ]
  },
  {
   "cell_type": "code",
   "execution_count": 3,
   "id": "8619cff6-a15b-4c78-b22f-3d2e42f99941",
   "metadata": {},
   "outputs": [
    {
     "name": "stdout",
     "output_type": "stream",
     "text": [
      "20\n"
     ]
    }
   ],
   "source": [
    "add(10,10)"
   ]
  },
  {
   "cell_type": "code",
   "execution_count": 5,
   "id": "372faa46-9d1d-4417-bb7a-468f9d21064f",
   "metadata": {},
   "outputs": [],
   "source": [
    "number1  =10"
   ]
  },
  {
   "cell_type": "code",
   "execution_count": 7,
   "id": "06e46ad8-f3f6-438c-b48f-924eac6215da",
   "metadata": {},
   "outputs": [
    {
     "name": "stdin",
     "output_type": "stream",
     "text": [
      "please provide a number 20\n"
     ]
    }
   ],
   "source": [
    "number2 =  input(\"please provide a number\")"
   ]
  },
  {
   "cell_type": "code",
   "execution_count": 9,
   "id": "2353eac7-d074-4fda-8ae2-511705f95243",
   "metadata": {},
   "outputs": [
    {
     "ename": "TypeError",
     "evalue": "unsupported operand type(s) for +: 'int' and 'str'",
     "output_type": "error",
     "traceback": [
      "\u001b[0;31m---------------------------------------------------------------------------\u001b[0m",
      "\u001b[0;31mTypeError\u001b[0m                                 Traceback (most recent call last)",
      "Cell \u001b[0;32mIn[9], line 1\u001b[0m\n\u001b[0;32m----> 1\u001b[0m add(number1,number2)\n",
      "Cell \u001b[0;32mIn[1], line 2\u001b[0m, in \u001b[0;36madd\u001b[0;34m(n1, n2)\u001b[0m\n\u001b[1;32m      1\u001b[0m \u001b[38;5;28;01mdef\u001b[39;00m \u001b[38;5;21madd\u001b[39m(n1,n2):\n\u001b[0;32m----> 2\u001b[0m     \u001b[38;5;28mprint\u001b[39m(n1\u001b[38;5;241m+\u001b[39mn2)\n",
      "\u001b[0;31mTypeError\u001b[0m: unsupported operand type(s) for +: 'int' and 'str'"
     ]
    }
   ],
   "source": [
    "add(number1,number2)"
   ]
  },
  {
   "cell_type": "code",
   "execution_count": 29,
   "id": "5eec0d08-ddb1-4b0f-bb25-df467f6555d9",
   "metadata": {},
   "outputs": [
    {
     "name": "stdout",
     "output_type": "stream",
     "text": [
      "error\n"
     ]
    }
   ],
   "source": [
    "try:\n",
    "    #want to attempt the code while this may have an error\n",
    "    result = 10+ '10'\n",
    "except:\n",
    "    print(\"error\")"
   ]
  },
  {
   "cell_type": "code",
   "execution_count": 31,
   "id": "4b1b9998-65db-4167-8503-7db8949bfe26",
   "metadata": {},
   "outputs": [
    {
     "data": {
      "text/plain": [
       "20"
      ]
     },
     "execution_count": 31,
     "metadata": {},
     "output_type": "execute_result"
    }
   ],
   "source": [
    "result"
   ]
  },
  {
   "cell_type": "code",
   "execution_count": 33,
   "id": "d5466a80-f6ef-491a-81e2-6c5dc539ae64",
   "metadata": {},
   "outputs": [
    {
     "name": "stdout",
     "output_type": "stream",
     "text": [
      "i alwasys run\n"
     ]
    }
   ],
   "source": [
    "try:\n",
    "    f = open('testfile','w')\n",
    "    f.write(\"jsdhafhkads\")\n",
    "\n",
    "except typeError :\n",
    "    print(\"fdsfdf\")\n",
    "except OSError:\n",
    "    print(\"oS error\")\n",
    "finally:\n",
    "    print(\"i alwasys run\")"
   ]
  },
  {
   "cell_type": "code",
   "execution_count": null,
   "id": "57f0f74b-a5b3-4ea3-bf33-bbb64aaff7a3",
   "metadata": {},
   "outputs": [],
   "source": []
  }
 ],
 "metadata": {
  "kernelspec": {
   "display_name": "Python [conda env:base] *",
   "language": "python",
   "name": "conda-base-py"
  },
  "language_info": {
   "codemirror_mode": {
    "name": "ipython",
    "version": 3
   },
   "file_extension": ".py",
   "mimetype": "text/x-python",
   "name": "python",
   "nbconvert_exporter": "python",
   "pygments_lexer": "ipython3",
   "version": "3.12.4"
  }
 },
 "nbformat": 4,
 "nbformat_minor": 5
}
