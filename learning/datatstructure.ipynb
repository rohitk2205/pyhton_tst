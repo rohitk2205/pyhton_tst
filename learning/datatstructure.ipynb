{
 "cells": [
  {
   "cell_type": "code",
   "execution_count": 1,
   "id": "90e3b352-85ce-4d3f-91b4-612caef44276",
   "metadata": {},
   "outputs": [
    {
     "data": {
      "text/plain": [
       "\" I'm in a call\""
      ]
     },
     "execution_count": 1,
     "metadata": {},
     "output_type": "execute_result"
    }
   ],
   "source": [
    "\" I'm in a call\"\n"
   ]
  },
  {
   "cell_type": "code",
   "execution_count": 3,
   "id": "49ded1fd-58d5-4c48-9dc1-38af109b68f9",
   "metadata": {},
   "outputs": [
    {
     "data": {
      "text/plain": [
       "'ydbybdbas'"
      ]
     },
     "execution_count": 3,
     "metadata": {},
     "output_type": "execute_result"
    }
   ],
   "source": [
    "\"ydbybdbas\""
   ]
  },
  {
   "cell_type": "code",
   "execution_count": 5,
   "id": "4d3b3eca-de89-4277-b0c2-b85b90947324",
   "metadata": {},
   "outputs": [
    {
     "data": {
      "text/plain": [
       "'HELLO WORLD'"
      ]
     },
     "execution_count": 5,
     "metadata": {},
     "output_type": "execute_result"
    }
   ],
   "source": [
    "x = \"hello world\"\n",
    "x. upper()"
   ]
  },
  {
   "cell_type": "code",
   "execution_count": 7,
   "id": "f9bd42eb-197b-4a00-a685-21f7f836e1ee",
   "metadata": {},
   "outputs": [
    {
     "name": "stdout",
     "output_type": "stream",
     "text": [
      "Python rules!\n"
     ]
    }
   ],
   "source": [
    "print('Python {}'.format('rules!'))"
   ]
  },
  {
   "cell_type": "code",
   "execution_count": 9,
   "id": "6f5ec2aa-ee6c-4074-a968-b29496ad4b02",
   "metadata": {},
   "outputs": [],
   "source": [
    "d= {'key1':['a','b','c']}"
   ]
  },
  {
   "cell_type": "code",
   "execution_count": null,
   "id": "293572f1-f5c2-495d-8b84-8092592278af",
   "metadata": {},
   "outputs": [],
   "source": []
  },
  {
   "cell_type": "code",
   "execution_count": 12,
   "id": "b31b73b1-55a7-44c4-b5b1-2351a42f18f1",
   "metadata": {},
   "outputs": [
    {
     "data": {
      "text/plain": [
       "{'key1': ['a', 'b', 'c']}"
      ]
     },
     "execution_count": 12,
     "metadata": {},
     "output_type": "execute_result"
    }
   ],
   "source": [
    "d"
   ]
  },
  {
   "cell_type": "code",
   "execution_count": 14,
   "id": "927297d5-77a9-4117-a790-3c131601ff38",
   "metadata": {},
   "outputs": [
    {
     "data": {
      "text/plain": [
       "['a', 'b', 'c']"
      ]
     },
     "execution_count": 14,
     "metadata": {},
     "output_type": "execute_result"
    }
   ],
   "source": [
    "d['key1']"
   ]
  },
  {
   "cell_type": "code",
   "execution_count": 16,
   "id": "6679c3cc-7760-4f9a-b424-b5636bd92c4d",
   "metadata": {},
   "outputs": [
    {
     "data": {
      "text/plain": [
       "'c'"
      ]
     },
     "execution_count": 16,
     "metadata": {},
     "output_type": "execute_result"
    }
   ],
   "source": [
    "d['key1'][2]"
   ]
  },
  {
   "cell_type": "code",
   "execution_count": 18,
   "id": "20c44fc6-bd9c-4cd2-bcc7-7965dd04e695",
   "metadata": {},
   "outputs": [
    {
     "data": {
      "text/plain": [
       "'C'"
      ]
     },
     "execution_count": 18,
     "metadata": {},
     "output_type": "execute_result"
    }
   ],
   "source": [
    "d['key1'][2].upper()"
   ]
  },
  {
   "cell_type": "code",
   "execution_count": 20,
   "id": "7c16fcde-f30d-456c-94f9-01e79ba2d369",
   "metadata": {},
   "outputs": [
    {
     "data": {
      "text/plain": [
       "dict_values([['a', 'b', 'c']])"
      ]
     },
     "execution_count": 20,
     "metadata": {},
     "output_type": "execute_result"
    }
   ],
   "source": [
    "d.values()"
   ]
  },
  {
   "cell_type": "code",
   "execution_count": 22,
   "id": "b07cd3e9-4541-4752-ab86-28aff39457a4",
   "metadata": {},
   "outputs": [],
   "source": [
    "t= (1,2,3)\n"
   ]
  },
  {
   "cell_type": "code",
   "execution_count": 24,
   "id": "0551f98f-0d3e-476d-896c-5804d9798e8f",
   "metadata": {},
   "outputs": [
    {
     "data": {
      "text/plain": [
       "(1, 2, 3)"
      ]
     },
     "execution_count": 24,
     "metadata": {},
     "output_type": "execute_result"
    }
   ],
   "source": [
    "t"
   ]
  },
  {
   "cell_type": "code",
   "execution_count": 26,
   "id": "37ae9f8e-4b40-43cf-a0e1-2d003fa4439b",
   "metadata": {},
   "outputs": [
    {
     "data": {
      "text/plain": [
       "tuple"
      ]
     },
     "execution_count": 26,
     "metadata": {},
     "output_type": "execute_result"
    }
   ],
   "source": [
    "type(t)"
   ]
  },
  {
   "cell_type": "code",
   "execution_count": 28,
   "id": "b3213c4e-a30b-49ac-9b6b-e6f20cdb2801",
   "metadata": {},
   "outputs": [
    {
     "name": "stdout",
     "output_type": "stream",
     "text": [
      "Writing myfile.txt\n"
     ]
    }
   ],
   "source": [
    "%%writefile myfile.txt\n",
    "this isthe first line\n",
    "this is the second line"
   ]
  },
  {
   "cell_type": "code",
   "execution_count": 32,
   "id": "1d370237-da12-4d6e-919d-c083568a74c0",
   "metadata": {},
   "outputs": [],
   "source": [
    "myfile= open('myfile.txt')"
   ]
  },
  {
   "cell_type": "code",
   "execution_count": 34,
   "id": "97579864-3156-4fd4-a12d-e540682d593d",
   "metadata": {},
   "outputs": [
    {
     "data": {
      "text/plain": [
       "'this isthe first line\\nthis is the second line\\n'"
      ]
     },
     "execution_count": 34,
     "metadata": {},
     "output_type": "execute_result"
    }
   ],
   "source": [
    "myfile.read()"
   ]
  },
  {
   "cell_type": "code",
   "execution_count": 36,
   "id": "600d1eeb-f223-497f-bb91-fc35130b0933",
   "metadata": {},
   "outputs": [
    {
     "data": {
      "text/plain": [
       "0"
      ]
     },
     "execution_count": 36,
     "metadata": {},
     "output_type": "execute_result"
    }
   ],
   "source": [
    "myfile.seek(0)"
   ]
  },
  {
   "cell_type": "code",
   "execution_count": 38,
   "id": "3053fd7a-43fa-4a12-a6fe-14cb99d77f57",
   "metadata": {},
   "outputs": [
    {
     "data": {
      "text/plain": [
       "'this isthe first line\\nthis is the second line\\n'"
      ]
     },
     "execution_count": 38,
     "metadata": {},
     "output_type": "execute_result"
    }
   ],
   "source": [
    "myfile.read()"
   ]
  },
  {
   "cell_type": "code",
   "execution_count": 40,
   "id": "3abc56ff-73a2-4174-b7e5-0602ed5f7bf6",
   "metadata": {},
   "outputs": [
    {
     "data": {
      "text/plain": [
       "'/Users/rohit/Python-test'"
      ]
     },
     "execution_count": 40,
     "metadata": {},
     "output_type": "execute_result"
    }
   ],
   "source": [
    "pwd"
   ]
  },
  {
   "cell_type": "code",
   "execution_count": 42,
   "id": "3aedacca-6baf-42dc-b1ab-bb4376a7f136",
   "metadata": {},
   "outputs": [],
   "source": [
    "myfile.close()"
   ]
  },
  {
   "cell_type": "code",
   "execution_count": 44,
   "id": "acc3b2b2-d3e7-4dd5-92d5-f4fa9c731244",
   "metadata": {},
   "outputs": [],
   "source": [
    "with open('myfile.txt') as my_newfile:\n",
    "    contents = my_newfile.read()"
   ]
  },
  {
   "cell_type": "code",
   "execution_count": 46,
   "id": "a3443dce-3e9f-42aa-a471-242caffeaf87",
   "metadata": {},
   "outputs": [
    {
     "data": {
      "text/plain": [
       "'this isthe first line\\nthis is the second line\\n'"
      ]
     },
     "execution_count": 46,
     "metadata": {},
     "output_type": "execute_result"
    }
   ],
   "source": [
    "contents"
   ]
  },
  {
   "cell_type": "code",
   "execution_count": 48,
   "id": "d458cd83-c55a-478a-bb03-934af31d3014",
   "metadata": {},
   "outputs": [],
   "source": [
    "x = open('test.txt', 'w')\n",
    "x.write('Hello World')\n",
    "x.close()"
   ]
  },
  {
   "cell_type": "code",
   "execution_count": 64,
   "id": "a072702a-224d-4efa-96a1-061b2ddc64c6",
   "metadata": {},
   "outputs": [
    {
     "name": "stdout",
     "output_type": "stream",
     "text": [
      "100\n"
     ]
    }
   ],
   "source": [
    " x=100\n",
    "print(x)"
   ]
  },
  {
   "cell_type": "code",
   "execution_count": 66,
   "id": "afcd0701-ef04-4d18-83a7-97262b02e905",
   "metadata": {},
   "outputs": [
    {
     "name": "stdout",
     "output_type": "stream",
     "text": [
      "102\n"
     ]
    }
   ],
   "source": [
    "x= 100^2\n",
    "print(x)"
   ]
  },
  {
   "cell_type": "code",
   "execution_count": 68,
   "id": "ed0a8271-ce2c-41c6-a016-953b47000b46",
   "metadata": {},
   "outputs": [],
   "source": [
    "list3 = [1,2,[3,4,'hello']]"
   ]
  },
  {
   "cell_type": "code",
   "execution_count": null,
   "id": "18e30791-9660-4c9b-b387-6b5e1723b171",
   "metadata": {},
   "outputs": [],
   "source": []
  },
  {
   "cell_type": "code",
   "execution_count": 71,
   "id": "c12eb0ac-5683-4cd8-9cba-a29a71b11c3d",
   "metadata": {},
   "outputs": [
    {
     "data": {
      "text/plain": [
       "[1, 2, [3, 4, 'hello']]"
      ]
     },
     "execution_count": 71,
     "metadata": {},
     "output_type": "execute_result"
    }
   ],
   "source": [
    "list3"
   ]
  },
  {
   "cell_type": "code",
   "execution_count": 73,
   "id": "30ff2425-04c5-4583-8a6c-4b659e4406e3",
   "metadata": {},
   "outputs": [
    {
     "data": {
      "text/plain": [
       "'hello'"
      ]
     },
     "execution_count": 73,
     "metadata": {},
     "output_type": "execute_result"
    }
   ],
   "source": [
    "list3[2][2]"
   ]
  },
  {
   "cell_type": "code",
   "execution_count": 75,
   "id": "a51cc839-709b-49a9-a348-89b874841ed2",
   "metadata": {},
   "outputs": [],
   "source": [
    "list3[2][2]='goodbye'"
   ]
  },
  {
   "cell_type": "code",
   "execution_count": 77,
   "id": "fd307f15-ae3c-4c7d-86bd-040fb76ea894",
   "metadata": {},
   "outputs": [
    {
     "data": {
      "text/plain": [
       "[1, 2, [3, 4, 'goodbye']]"
      ]
     },
     "execution_count": 77,
     "metadata": {},
     "output_type": "execute_result"
    }
   ],
   "source": [
    "list3"
   ]
  },
  {
   "cell_type": "code",
   "execution_count": 79,
   "id": "f9fce23a-cfab-4d3a-a89e-e2e04c250c58",
   "metadata": {},
   "outputs": [],
   "source": [
    "d = {'simple_key':'hello'}"
   ]
  },
  {
   "cell_type": "code",
   "execution_count": 81,
   "id": "0e50def8-a0da-4e55-9ca8-f47f05b6beb7",
   "metadata": {},
   "outputs": [
    {
     "data": {
      "text/plain": [
       "{'simple_key': 'hello'}"
      ]
     },
     "execution_count": 81,
     "metadata": {},
     "output_type": "execute_result"
    }
   ],
   "source": [
    "d"
   ]
  },
  {
   "cell_type": "code",
   "execution_count": 83,
   "id": "c05e5a27-534d-477b-b99a-2c7a7581d447",
   "metadata": {},
   "outputs": [
    {
     "ename": "KeyError",
     "evalue": "1",
     "output_type": "error",
     "traceback": [
      "\u001b[0;31m---------------------------------------------------------------------------\u001b[0m",
      "\u001b[0;31mKeyError\u001b[0m                                  Traceback (most recent call last)",
      "Cell \u001b[0;32mIn[83], line 1\u001b[0m\n\u001b[0;32m----> 1\u001b[0m d[\u001b[38;5;241m1\u001b[39m]\n",
      "\u001b[0;31mKeyError\u001b[0m: 1"
     ]
    }
   ],
   "source": [
    "d[1]"
   ]
  },
  {
   "cell_type": "code",
   "execution_count": 85,
   "id": "7d8c9424-5298-4924-be75-e2902438f70d",
   "metadata": {},
   "outputs": [
    {
     "ename": "SyntaxError",
     "evalue": "invalid syntax (1367097931.py, line 1)",
     "output_type": "error",
     "traceback": [
      "\u001b[0;36m  Cell \u001b[0;32mIn[85], line 1\u001b[0;36m\u001b[0m\n\u001b[0;31m    d{1}\u001b[0m\n\u001b[0m     ^\u001b[0m\n\u001b[0;31mSyntaxError\u001b[0m\u001b[0;31m:\u001b[0m invalid syntax\n"
     ]
    }
   ],
   "source": [
    "d{1}"
   ]
  },
  {
   "cell_type": "code",
   "execution_count": 87,
   "id": "b604fbc7-a7a5-4af4-a801-97542ef2be42",
   "metadata": {},
   "outputs": [
    {
     "data": {
      "text/plain": [
       "'hello'"
      ]
     },
     "execution_count": 87,
     "metadata": {},
     "output_type": "execute_result"
    }
   ],
   "source": [
    "d['simple_key']"
   ]
  },
  {
   "cell_type": "code",
   "execution_count": 1,
   "id": "c5abb53d-093d-4f0f-b789-1f036caae074",
   "metadata": {},
   "outputs": [
    {
     "name": "stdout",
     "output_type": "stream",
     "text": [
      "(0, 'a')\n",
      "(1, 'b')\n",
      "(2, 'c')\n",
      "(3, 'd')\n",
      "(4, 'e')\n"
     ]
    }
   ],
   "source": [
    "word = 'abcde'\n",
    "\n",
    "for i in enumerate(word):\n",
    "    print(i)\n",
    "    #print tuples\n",
    "    "
   ]
  },
  {
   "cell_type": "code",
   "execution_count": 3,
   "id": "90499a68-46e1-4873-a97f-3eeebfc1fb25",
   "metadata": {},
   "outputs": [
    {
     "ename": "ModuleNotFoundError",
     "evalue": "No module named 'x'",
     "output_type": "error",
     "traceback": [
      "\u001b[0;31m---------------------------------------------------------------------------\u001b[0m",
      "\u001b[0;31mModuleNotFoundError\u001b[0m                       Traceback (most recent call last)",
      "Cell \u001b[0;32mIn[3], line 1\u001b[0m\n\u001b[0;32m----> 1\u001b[0m \u001b[38;5;28;01mfrom\u001b[39;00m \u001b[38;5;21;01mx\u001b[39;00m \u001b[38;5;28;01mimport\u001b[39;00m shuffle\n",
      "\u001b[0;31mModuleNotFoundError\u001b[0m: No module named 'x'"
     ]
    }
   ],
   "source": [
    "from x import shuffle"
   ]
  },
  {
   "cell_type": "code",
   "execution_count": 5,
   "id": "70419988-b18b-4f34-a714-4b543c2becc7",
   "metadata": {},
   "outputs": [
    {
     "ename": "ModuleNotFoundError",
     "evalue": "No module named 'x'",
     "output_type": "error",
     "traceback": [
      "\u001b[0;31m---------------------------------------------------------------------------\u001b[0m",
      "\u001b[0;31mModuleNotFoundError\u001b[0m                       Traceback (most recent call last)",
      "Cell \u001b[0;32mIn[5], line 2\u001b[0m\n\u001b[1;32m      1\u001b[0m x\u001b[38;5;241m=\u001b[39m [\u001b[38;5;241m12\u001b[39m,\u001b[38;5;241m23\u001b[39m,\u001b[38;5;241m34\u001b[39m,\u001b[38;5;241m56\u001b[39m,\u001b[38;5;241m2\u001b[39m,\u001b[38;5;241m3\u001b[39m,\u001b[38;5;241m56\u001b[39m]\n\u001b[0;32m----> 2\u001b[0m \u001b[38;5;28;01mfrom\u001b[39;00m \u001b[38;5;21;01mx\u001b[39;00m \u001b[38;5;28;01mimport\u001b[39;00m shuffle\n",
      "\u001b[0;31mModuleNotFoundError\u001b[0m: No module named 'x'"
     ]
    }
   ],
   "source": [
    "x= [12,23,34,56,2,3,56]\n",
    "from x import shuffle"
   ]
  },
  {
   "cell_type": "code",
   "execution_count": 7,
   "id": "ad66880d-335f-4e7b-ad7c-afd7d5f2f9de",
   "metadata": {},
   "outputs": [],
   "source": [
    "from random import randint"
   ]
  },
  {
   "cell_type": "code",
   "execution_count": 9,
   "id": "8832b8c0-3be8-43dc-90ba-ad89ce9deade",
   "metadata": {},
   "outputs": [
    {
     "data": {
      "text/plain": [
       "44"
      ]
     },
     "execution_count": 9,
     "metadata": {},
     "output_type": "execute_result"
    }
   ],
   "source": [
    "randint(1,50)"
   ]
  },
  {
   "cell_type": "code",
   "execution_count": 11,
   "id": "a0c17b0e-57e6-48c2-bfa0-c9f091cff13f",
   "metadata": {},
   "outputs": [],
   "source": [
    "from random import shuffle"
   ]
  },
  {
   "cell_type": "code",
   "execution_count": 13,
   "id": "35fae192-1abd-48cf-bf90-b7d904544c99",
   "metadata": {},
   "outputs": [],
   "source": [
    "x = [12,23,34,56,2,3,56]"
   ]
  },
  {
   "cell_type": "code",
   "execution_count": 17,
   "id": "3aa69af4-7bbb-4c7f-9d85-3ef4df151bb9",
   "metadata": {},
   "outputs": [],
   "source": [
    "shuffle(x)"
   ]
  },
  {
   "cell_type": "code",
   "execution_count": null,
   "id": "2812f78f-eba7-4358-bea1-1ad470de897c",
   "metadata": {},
   "outputs": [],
   "source": []
  },
  {
   "cell_type": "code",
   "execution_count": 20,
   "id": "c6a00f6b-b955-46e5-93bb-92df12c0652c",
   "metadata": {},
   "outputs": [
    {
     "data": {
      "text/plain": [
       "[12, 56, 3, 56, 2, 23, 34]"
      ]
     },
     "execution_count": 20,
     "metadata": {},
     "output_type": "execute_result"
    }
   ],
   "source": [
    "x"
   ]
  },
  {
   "cell_type": "code",
   "execution_count": 22,
   "id": "d61a2b40-5fd2-45b7-9dda-84239ef33fad",
   "metadata": {},
   "outputs": [
    {
     "name": "stdin",
     "output_type": "stream",
     "text": [
      "number 23\n"
     ]
    }
   ],
   "source": [
    "result = input('number')"
   ]
  },
  {
   "cell_type": "code",
   "execution_count": null,
   "id": "24f57466-bb6f-4435-9263-c534f3f8a9c1",
   "metadata": {},
   "outputs": [],
   "source": []
  }
 ],
 "metadata": {
  "kernelspec": {
   "display_name": "Python 3 (ipykernel)",
   "language": "python",
   "name": "python3"
  },
  "language_info": {
   "codemirror_mode": {
    "name": "ipython",
    "version": 3
   },
   "file_extension": ".py",
   "mimetype": "text/x-python",
   "name": "python",
   "nbconvert_exporter": "python",
   "pygments_lexer": "ipython3",
   "version": "3.12.4"
  }
 },
 "nbformat": 4,
 "nbformat_minor": 5
}
