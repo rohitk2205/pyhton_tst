{
 "cells": [
  {
   "cell_type": "code",
   "execution_count": 1,
   "id": "8efe8ba5-4110-45a5-98a4-39888e31bb1d",
   "metadata": {},
   "outputs": [],
   "source": [
    "mylist = [12,3,4,5,54,4,3,3,2,2,2,2]"
   ]
  },
  {
   "cell_type": "code",
   "execution_count": 9,
   "id": "52e919fa-ba26-4a2f-88e1-8198db25486a",
   "metadata": {},
   "outputs": [
    {
     "name": "stdout",
     "output_type": "stream",
     "text": [
      "12\n",
      "3\n",
      "4\n",
      "5\n",
      "54\n",
      "4\n",
      "3\n",
      "3\n",
      "2\n",
      "2\n",
      "2\n",
      "2\n"
     ]
    }
   ],
   "source": [
    "for i in mylist:\n",
    "    print(i)"
   ]
  },
  {
   "cell_type": "code",
   "execution_count": 35,
   "id": "f249f903-6c34-4d72-8104-79c9e7e0cf6e",
   "metadata": {},
   "outputs": [
    {
     "name": "stdout",
     "output_type": "stream",
     "text": [
      "even number: 12\n",
      "odd number\n",
      "even number: 4\n",
      "odd number\n",
      "even number: 54\n",
      "even number: 4\n",
      "odd number\n",
      "odd number\n",
      "even number: 2\n",
      "even number: 2\n",
      "even number: 2\n",
      "even number: 2\n"
     ]
    }
   ],
   "source": [
    "for i in mylist:\n",
    "    if i % 2 == 0:\n",
    "        print(f'even number: {i}')\n",
    "    else:\n",
    "        print('odd number')"
   ]
  },
  {
   "cell_type": "code",
   "execution_count": 33,
   "id": "8a8caff2-88c2-4230-9da9-f8ffaa9fd75f",
   "metadata": {},
   "outputs": [
    {
     "name": "stdout",
     "output_type": "stream",
     "text": [
      "even number: 12\n",
      "odd number\n",
      "even number: 4\n",
      "odd number\n",
      "even number: 54\n",
      "even number: 4\n",
      "odd number\n",
      "odd number\n",
      "even number: 2\n",
      "even number: 2\n",
      "even number: 2\n",
      "even number: 2\n"
     ]
    }
   ],
   "source": [
    "for i in mylist:\n",
    "    if i % 2 == 0:\n",
    "        print(f'even number: {i}')\n",
    "    else:\n",
    "        print('odd number')"
   ]
  },
  {
   "cell_type": "code",
   "execution_count": 37,
   "id": "a83f8302-6b51-4ebe-a78e-34211c00c159",
   "metadata": {},
   "outputs": [
    {
     "name": "stdout",
     "output_type": "stream",
     "text": [
      "consonant\n",
      "vowwel\n",
      "consonant\n",
      "consonant\n",
      "consonant\n",
      "consonant\n",
      "consonant\n",
      "consonant\n",
      "consonant\n",
      "consonant\n",
      "consonant\n",
      "vowwel\n"
     ]
    }
   ],
   "source": [
    "mystring = 'heloow dsffa'\n",
    "for i in mystring:\n",
    "    if i == 'e' or i == 'a':\n",
    "        print('vowwel')\n",
    "    else:\n",
    "        print('consonant')"
   ]
  },
  {
   "cell_type": "code",
   "execution_count": 39,
   "id": "b96bf2b1-7baa-4c07-937e-476902032f3f",
   "metadata": {},
   "outputs": [],
   "source": [
    "mylist = [(1,2,3),(4,5,6)]\n"
   ]
  },
  {
   "cell_type": "code",
   "execution_count": 41,
   "id": "a693625f-2eba-4966-b590-36b2aef1ac9c",
   "metadata": {},
   "outputs": [
    {
     "data": {
      "text/plain": [
       "[(1, 2, 3), (4, 5, 6)]"
      ]
     },
     "execution_count": 41,
     "metadata": {},
     "output_type": "execute_result"
    }
   ],
   "source": [
    "mylist"
   ]
  },
  {
   "cell_type": "code",
   "execution_count": 43,
   "id": "d84be347-4d7e-4b34-8b34-59d72d0d4b6b",
   "metadata": {},
   "outputs": [
    {
     "name": "stdout",
     "output_type": "stream",
     "text": [
      "2\n",
      "5\n"
     ]
    }
   ],
   "source": [
    "for a,b,c in mylist:\n",
    "    print(b)"
   ]
  },
  {
   "cell_type": "code",
   "execution_count": 45,
   "id": "43d500ad-ca87-438e-9179-08b4af9848b6",
   "metadata": {},
   "outputs": [],
   "source": [
    "mydict = {'k1':1,'k2':2}"
   ]
  },
  {
   "cell_type": "code",
   "execution_count": 47,
   "id": "0de718e8-2feb-4f98-bfcd-ef1794bfcc43",
   "metadata": {},
   "outputs": [
    {
     "data": {
      "text/plain": [
       "{'k1': 1, 'k2': 2}"
      ]
     },
     "execution_count": 47,
     "metadata": {},
     "output_type": "execute_result"
    }
   ],
   "source": [
    "mydict"
   ]
  },
  {
   "cell_type": "code",
   "execution_count": 49,
   "id": "d7b1c63c-bcfa-4642-910c-0154231f15c4",
   "metadata": {},
   "outputs": [
    {
     "name": "stdout",
     "output_type": "stream",
     "text": [
      "k1\n",
      "k2\n"
     ]
    }
   ],
   "source": [
    "for i in mydict:\n",
    "    print(i)"
   ]
  },
  {
   "cell_type": "code",
   "execution_count": 51,
   "id": "e7a9602f-6b30-4b77-a76f-6a3a5fbc5031",
   "metadata": {},
   "outputs": [
    {
     "name": "stdout",
     "output_type": "stream",
     "text": [
      "1\n",
      "2\n"
     ]
    }
   ],
   "source": [
    "for i in mydict:\n",
    "    print(i[1])"
   ]
  },
  {
   "cell_type": "code",
   "execution_count": 55,
   "id": "fc816cf7-db5a-4add-a787-dfafb0c8bf90",
   "metadata": {},
   "outputs": [
    {
     "name": "stdout",
     "output_type": "stream",
     "text": [
      "('k1', 1)\n",
      "('k2', 2)\n"
     ]
    }
   ],
   "source": [
    "for i in mydict.items():\n",
    "    print(i)"
   ]
  },
  {
   "cell_type": "code",
   "execution_count": 61,
   "id": "6e69192b-02d1-4747-8179-4dc65cb323c5",
   "metadata": {},
   "outputs": [
    {
     "name": "stdout",
     "output_type": "stream",
     "text": [
      "hello world  0\n"
     ]
    }
   ],
   "source": [
    "x = 0 \n",
    "\n",
    "while x < 5:\n",
    "    print(f'hello world  {x}')\n",
    "    x= x+5"
   ]
  },
  {
   "cell_type": "code",
   "execution_count": 65,
   "id": "614e5446-01ec-42f3-af9d-0b308c633e84",
   "metadata": {},
   "outputs": [
    {
     "name": "stdout",
     "output_type": "stream",
     "text": [
      "heelo\n"
     ]
    }
   ],
   "source": [
    "x= [1,2,3]\n",
    "for i in x:\n",
    "    pass\n",
    "\n",
    "print('heelo')"
   ]
  },
  {
   "cell_type": "code",
   "execution_count": 67,
   "id": "c347eaad-5b6f-4e9f-a4ea-6a1216bf1ef4",
   "metadata": {},
   "outputs": [
    {
     "name": "stdout",
     "output_type": "stream",
     "text": [
      "0\n",
      "1\n",
      "2\n",
      "3\n",
      "4\n",
      "5\n",
      "6\n",
      "7\n",
      "8\n",
      "9\n"
     ]
    }
   ],
   "source": [
    "for x in range(10):\n",
    "    print(x)"
   ]
  },
  {
   "cell_type": "code",
   "execution_count": 69,
   "id": "305fd32f-1679-46c5-90b1-cdf1dcb04cee",
   "metadata": {},
   "outputs": [
    {
     "name": "stdout",
     "output_type": "stream",
     "text": [
      "0\n",
      "2\n",
      "4\n",
      "6\n",
      "8\n"
     ]
    }
   ],
   "source": [
    "for x in range(0,10,2):\n",
    "    print(x)"
   ]
  },
  {
   "cell_type": "code",
   "execution_count": 88,
   "id": "b0bb99e8-f987-4abe-b7ab-f7f5b4887db2",
   "metadata": {},
   "outputs": [
    {
     "name": "stdout",
     "output_type": "stream",
     "text": [
      "at index 0 is letter a\n",
      "at index 1 is letter b\n",
      "at index 2 is letter c\n",
      "at index 3 is letter d\n",
      "at index 4 is letter e\n"
     ]
    }
   ],
   "source": [
    "index = 0\n",
    "for letter in 'abcde':\n",
    "    print('at index {} is letter {}'.format(index,letter))\n",
    "    index += 1     "
   ]
  },
  {
   "cell_type": "code",
   "execution_count": 94,
   "id": "3669fc97-9032-404b-872f-a155e15aa068",
   "metadata": {},
   "outputs": [],
   "source": [
    "mystirng  = 'rohit'"
   ]
  },
  {
   "cell_type": "code",
   "execution_count": 106,
   "id": "ce7c0d60-53d0-4255-9405-8f6824ff47ae",
   "metadata": {},
   "outputs": [],
   "source": [
    "mylist = []\n",
    "for i in mystirng:\n",
    "    mylist.append(i)"
   ]
  },
  {
   "cell_type": "code",
   "execution_count": 108,
   "id": "efddcba7-e0d7-47a0-af52-8e9fe722ae70",
   "metadata": {},
   "outputs": [
    {
     "data": {
      "text/plain": [
       "['r', 'o', 'h', 'i', 't']"
      ]
     },
     "execution_count": 108,
     "metadata": {},
     "output_type": "execute_result"
    }
   ],
   "source": [
    "mylist"
   ]
  },
  {
   "cell_type": "code",
   "execution_count": 116,
   "id": "74f81836-6648-4e58-a936-884c5b36897b",
   "metadata": {},
   "outputs": [],
   "source": [
    "mylist = [i for i in mystirng]"
   ]
  },
  {
   "cell_type": "code",
   "execution_count": 118,
   "id": "655739f7-ddde-4c50-80fa-3ad5c83dc6fd",
   "metadata": {},
   "outputs": [
    {
     "data": {
      "text/plain": [
       "['r', 'o', 'h', 'i', 't']"
      ]
     },
     "execution_count": 118,
     "metadata": {},
     "output_type": "execute_result"
    }
   ],
   "source": [
    "mylist"
   ]
  },
  {
   "cell_type": "code",
   "execution_count": 122,
   "id": "af903cd9-68ef-452d-90fe-d35ce7622404",
   "metadata": {},
   "outputs": [],
   "source": [
    "mylist = [x**2 for x in range(0,9)]"
   ]
  },
  {
   "cell_type": "code",
   "execution_count": 124,
   "id": "64fa34d9-a77c-49a1-be54-4db5e1688429",
   "metadata": {},
   "outputs": [
    {
     "data": {
      "text/plain": [
       "[0, 1, 4, 9, 16, 25, 36, 49, 64]"
      ]
     },
     "execution_count": 124,
     "metadata": {},
     "output_type": "execute_result"
    }
   ],
   "source": [
    "mylist"
   ]
  },
  {
   "cell_type": "code",
   "execution_count": 126,
   "id": "31cde785-3182-4712-96bb-cdd6c995c0e7",
   "metadata": {},
   "outputs": [],
   "source": [
    "mylist = [x**2 for x in range(0,9) if x%2 == 0]"
   ]
  },
  {
   "cell_type": "code",
   "execution_count": 128,
   "id": "e5f8b3a8-db2b-4abb-a6dd-18f22165be5b",
   "metadata": {},
   "outputs": [
    {
     "data": {
      "text/plain": [
       "[0, 4, 16, 36, 64]"
      ]
     },
     "execution_count": 128,
     "metadata": {},
     "output_type": "execute_result"
    }
   ],
   "source": [
    "mylist"
   ]
  },
  {
   "cell_type": "code",
   "execution_count": 130,
   "id": "e1441414-cb88-45c3-8644-7d92c341b76b",
   "metadata": {},
   "outputs": [],
   "source": [
    "st = 'Print only the words that start with s in this sentence'"
   ]
  },
  {
   "cell_type": "code",
   "execution_count": 132,
   "id": "0fca2392-f21f-4cdd-af43-a03aa75e7729",
   "metadata": {},
   "outputs": [
    {
     "data": {
      "text/plain": [
       "'Print only the words that start with s in this sentence'"
      ]
     },
     "execution_count": 132,
     "metadata": {},
     "output_type": "execute_result"
    }
   ],
   "source": [
    "st"
   ]
  },
  {
   "cell_type": "code",
   "execution_count": 141,
   "id": "f9859a6a-de52-4b4a-8408-2cc089cfc26c",
   "metadata": {},
   "outputs": [
    {
     "name": "stdout",
     "output_type": "stream",
     "text": [
      "start\n",
      "s\n",
      "sentence\n"
     ]
    }
   ],
   "source": [
    "for word in st.split():\n",
    "    if word[0]=='s':\n",
    "        print(word)"
   ]
  },
  {
   "cell_type": "code",
   "execution_count": 143,
   "id": "96cc51ed-c5ea-425d-9367-a5318c36ce00",
   "metadata": {},
   "outputs": [
    {
     "name": "stdout",
     "output_type": "stream",
     "text": [
      "0\n",
      "2\n",
      "4\n",
      "6\n",
      "8\n"
     ]
    }
   ],
   "source": [
    "for random in range(0,10):\n",
    "    if random % 2 == 0:\n",
    "        print(random)"
   ]
  },
  {
   "cell_type": "code",
   "execution_count": 149,
   "id": "872eda48-bd93-424e-a95c-31bfe41f71e3",
   "metadata": {},
   "outputs": [
    {
     "data": {
      "text/plain": [
       "[0, 2, 4, 6, 8]"
      ]
     },
     "execution_count": 149,
     "metadata": {},
     "output_type": "execute_result"
    }
   ],
   "source": [
    "list(range(0,10,2))"
   ]
  },
  {
   "cell_type": "code",
   "execution_count": 147,
   "id": "e96c324c-45af-45f5-9bb4-5ca9afc0ba6f",
   "metadata": {},
   "outputs": [
    {
     "data": {
      "text/plain": [
       "list"
      ]
     },
     "execution_count": 147,
     "metadata": {},
     "output_type": "execute_result"
    }
   ],
   "source": [
    "list"
   ]
  },
  {
   "cell_type": "code",
   "execution_count": 157,
   "id": "482642e5-d124-4817-a6fd-5353c9124885",
   "metadata": {},
   "outputs": [
    {
     "data": {
      "text/plain": [
       "[3, 6, 9, 12, 15, 18, 21, 24, 27, 30, 33, 36, 39, 42, 45, 48]"
      ]
     },
     "execution_count": 157,
     "metadata": {},
     "output_type": "execute_result"
    }
   ],
   "source": [
    "list(x for x in range(1,51) if x %3 ==0)"
   ]
  },
  {
   "cell_type": "code",
   "execution_count": 159,
   "id": "3398bcf1-57e3-4e9b-8191-001dd19388e4",
   "metadata": {},
   "outputs": [],
   "source": [
    "st = 'Print every word in this sentence that has an even number of letters'"
   ]
  },
  {
   "cell_type": "code",
   "execution_count": 161,
   "id": "2f3e9f7e-0adc-4e3b-b4fa-110ab4c2bcf8",
   "metadata": {},
   "outputs": [
    {
     "data": {
      "text/plain": [
       "'Print every word in this sentence that has an even number of letters'"
      ]
     },
     "execution_count": 161,
     "metadata": {},
     "output_type": "execute_result"
    }
   ],
   "source": [
    "st"
   ]
  },
  {
   "cell_type": "code",
   "execution_count": 163,
   "id": "7cf63a40-5f25-4816-8857-8b05e79f5e39",
   "metadata": {},
   "outputs": [
    {
     "data": {
      "text/plain": [
       "['Print',\n",
       " 'every',\n",
       " 'word',\n",
       " 'in',\n",
       " 'this',\n",
       " 'sentence',\n",
       " 'that',\n",
       " 'has',\n",
       " 'an',\n",
       " 'even',\n",
       " 'number',\n",
       " 'of',\n",
       " 'letters']"
      ]
     },
     "execution_count": 163,
     "metadata": {},
     "output_type": "execute_result"
    }
   ],
   "source": [
    "st.split()"
   ]
  },
  {
   "cell_type": "code",
   "execution_count": 175,
   "id": "19296eeb-4b0c-45c2-aec5-8a170f53abe2",
   "metadata": {},
   "outputs": [
    {
     "name": "stdout",
     "output_type": "stream",
     "text": [
      "even word\n",
      "even in\n",
      "even this\n",
      "even sentence\n",
      "even that\n",
      "even an\n",
      "even even\n",
      "even number\n",
      "even of\n"
     ]
    }
   ],
   "source": [
    "for word in st.split():\n",
    "    if len(word)%2==0:\n",
    "        print(f'even {word}')"
   ]
  },
  {
   "cell_type": "code",
   "execution_count": 179,
   "id": "c165fd3a-1f4d-47a3-b274-154eef18a859",
   "metadata": {},
   "outputs": [
    {
     "name": "stdout",
     "output_type": "stream",
     "text": [
      "1\n",
      "2\n",
      "Fizz\n",
      "4\n",
      "Fizz\n",
      "Fizz\n",
      "7\n",
      "8\n",
      "Fizz\n",
      "Fizz\n",
      "11\n",
      "Fizz\n",
      "13\n",
      "14\n",
      "FizzBuzz\n",
      "16\n",
      "17\n",
      "Fizz\n",
      "19\n",
      "Fizz\n",
      "Fizz\n",
      "22\n",
      "23\n",
      "Fizz\n",
      "Fizz\n",
      "26\n",
      "Fizz\n",
      "28\n",
      "29\n",
      "FizzBuzz\n",
      "31\n",
      "32\n",
      "Fizz\n",
      "34\n",
      "Fizz\n",
      "Fizz\n",
      "37\n",
      "38\n",
      "Fizz\n",
      "Fizz\n",
      "41\n",
      "Fizz\n",
      "43\n",
      "44\n",
      "FizzBuzz\n",
      "46\n",
      "47\n",
      "Fizz\n",
      "49\n",
      "Fizz\n",
      "Fizz\n",
      "52\n",
      "53\n",
      "Fizz\n",
      "Fizz\n",
      "56\n",
      "Fizz\n",
      "58\n",
      "59\n",
      "FizzBuzz\n",
      "61\n",
      "62\n",
      "Fizz\n",
      "64\n",
      "Fizz\n",
      "Fizz\n",
      "67\n",
      "68\n",
      "Fizz\n",
      "Fizz\n",
      "71\n",
      "Fizz\n",
      "73\n",
      "74\n",
      "FizzBuzz\n",
      "76\n",
      "77\n",
      "Fizz\n",
      "79\n",
      "Fizz\n",
      "Fizz\n",
      "82\n",
      "83\n",
      "Fizz\n",
      "Fizz\n",
      "86\n",
      "Fizz\n",
      "88\n",
      "89\n",
      "FizzBuzz\n",
      "91\n",
      "92\n",
      "Fizz\n",
      "94\n",
      "Fizz\n",
      "Fizz\n",
      "97\n",
      "98\n",
      "Fizz\n"
     ]
    }
   ],
   "source": [
    "for i in range(1,100):\n",
    "    if(i %3==0 and i %5==0):\n",
    "        print('FizzBuzz')\n",
    "    elif(i %3==0 or i %5==0):\n",
    "        print('Fizz')\n",
    "    else:\n",
    "        print(i)"
   ]
  },
  {
   "cell_type": "code",
   "execution_count": 181,
   "id": "6e9841cf-ec20-4ccd-af14-0fc1ddc34470",
   "metadata": {},
   "outputs": [],
   "source": [
    "st = 'Create a list of the first letters of every word in this string'"
   ]
  },
  {
   "cell_type": "code",
   "execution_count": 183,
   "id": "f54cfa79-e91b-475d-8cb3-ef8eacb2a54f",
   "metadata": {},
   "outputs": [
    {
     "data": {
      "text/plain": [
       "'Create a list of the first letters of every word in this string'"
      ]
     },
     "execution_count": 183,
     "metadata": {},
     "output_type": "execute_result"
    }
   ],
   "source": [
    "st"
   ]
  },
  {
   "cell_type": "code",
   "execution_count": 187,
   "id": "abcfe72f-ab19-435c-a1b7-4599c22bab05",
   "metadata": {},
   "outputs": [
    {
     "name": "stdout",
     "output_type": "stream",
     "text": [
      "['C']\n",
      "['a']\n",
      "['l']\n",
      "['o']\n",
      "['t']\n",
      "['f']\n",
      "['l']\n",
      "['o']\n",
      "['e']\n",
      "['w']\n",
      "['i']\n",
      "['t']\n",
      "['s']\n"
     ]
    }
   ],
   "source": [
    "for i in st.split():\n",
    "    print(list(i[0]))"
   ]
  },
  {
   "cell_type": "code",
   "execution_count": 193,
   "id": "88bbde18-d1c4-4c79-837e-a4d6e21b2b63",
   "metadata": {},
   "outputs": [
    {
     "data": {
      "text/plain": [
       "['C', 'a', 'l', 'o', 't', 'f', 'l', 'o', 'e', 'w', 'i', 't', 's']"
      ]
     },
     "execution_count": 193,
     "metadata": {},
     "output_type": "execute_result"
    }
   ],
   "source": [
    "[word[0] for word in st.split()]"
   ]
  },
  {
   "cell_type": "code",
   "execution_count": null,
   "id": "993814dd-8436-4e0d-a04a-09053cea8943",
   "metadata": {},
   "outputs": [],
   "source": []
  }
 ],
 "metadata": {
  "kernelspec": {
   "display_name": "Python [conda env:base] *",
   "language": "python",
   "name": "conda-base-py"
  },
  "language_info": {
   "codemirror_mode": {
    "name": "ipython",
    "version": 3
   },
   "file_extension": ".py",
   "mimetype": "text/x-python",
   "name": "python",
   "nbconvert_exporter": "python",
   "pygments_lexer": "ipython3",
   "version": "3.12.4"
  }
 },
 "nbformat": 4,
 "nbformat_minor": 5
}
